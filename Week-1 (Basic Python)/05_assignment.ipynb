{
 "cells": [
  {
   "cell_type": "markdown",
   "metadata": {},
   "source": [
    "Q1. Create one variable containing following type of data: \n",
    "(i) string \n",
    "(ii) list \n",
    "(iii) float \n",
    "(iv) tuple  "
   ]
  },
  {
   "cell_type": "code",
   "execution_count": 2,
   "metadata": {},
   "outputs": [],
   "source": [
    "a = \"jerry\"\n",
    "b = [1,2,3,4,\"jerry\",45.44,True]\n",
    "c = 45.66\n",
    "d = (1,2,3,4,\"jerry\",45.33,True)"
   ]
  },
  {
   "cell_type": "markdown",
   "metadata": {},
   "source": [
    "Q2. Given are some following variables containing data: \n",
    "(i) var1 = ' ' \n",
    "(ii) var2 = '[ DS , ML , Python]' \n",
    "(iii) var3 = [ 'DS' , 'ML' , 'Python'] \n",
    "(iv) var4 = 1"
   ]
  },
  {
   "cell_type": "code",
   "execution_count": 6,
   "metadata": {},
   "outputs": [
    {
     "name": "stdout",
     "output_type": "stream",
     "text": [
      "<class 'str'>\n",
      "<class 'str'>\n",
      "<class 'list'>\n",
      "<class 'int'>\n"
     ]
    }
   ],
   "source": [
    "var1 = ' '\n",
    "var2 = '[ DS , ML , Python]'\n",
    "var3 = [ 'DS' , 'ML' , 'Python']\n",
    "var4 = 1\n",
    "print(type(var1),type(var2),type(var3),type(var4),sep='\\n')"
   ]
  },
  {
   "cell_type": "markdown",
   "metadata": {},
   "source": [
    "Q3. Explain the use of the following operators using an example: \n",
    "(i) / \n",
    "(ii) %  \n",
    "(iii) // \n",
    "(iv) **  "
   ]
  },
  {
   "cell_type": "code",
   "execution_count": 7,
   "metadata": {},
   "outputs": [
    {
     "name": "stdout",
     "output_type": "stream",
     "text": [
      "0.022\n",
      "1\n",
      "2\n",
      "1000\n"
     ]
    }
   ],
   "source": [
    "print(22/1000) #division\n",
    "\n",
    "print(22%3) #modulus\n",
    "\n",
    "print(22//10) #floor division\n",
    "\n",
    "print(10**3) #exponentiation"
   ]
  },
  {
   "cell_type": "markdown",
   "metadata": {},
   "source": [
    "Q4. Create a list of length 10 of your choice containing multiple types of data. Using for loop print the element and its data type."
   ]
  },
  {
   "cell_type": "code",
   "execution_count": 11,
   "metadata": {},
   "outputs": [
    {
     "name": "stdout",
     "output_type": "stream",
     "text": [
      "<class 'int'>\n",
      "<class 'float'>\n",
      "<class 'str'>\n",
      "<class 'bool'>\n",
      "<class 'complex'>\n",
      "<class 'list'>\n",
      "<class 'tuple'>\n",
      "<class 'range'>\n",
      "<class 'set'>\n",
      "<class 'dict'>\n"
     ]
    }
   ],
   "source": [
    "lst = [100,100.02,\"jerry\",True,1+1j,[12,24,36],(1,2,3),range(10),{1,2,3,3,1,2},{'name':'jerry','roll_no':82,'sem':5}]\n",
    "for i in lst:\n",
    "    print(type(i))"
   ]
  },
  {
   "cell_type": "markdown",
   "metadata": {},
   "source": [
    "Q5. Using a while loop, verify if the number A is purely divisible by number B and if so then how many times it can be divisible."
   ]
  },
  {
   "cell_type": "code",
   "execution_count": 15,
   "metadata": {},
   "outputs": [
    {
     "name": "stdout",
     "output_type": "stream",
     "text": [
      "123 is divisible 41 times by 3\n"
     ]
    }
   ],
   "source": [
    "A = int(input(\"Enter A: \"))\n",
    "B = int(input(\"Enter B: \"))\n",
    "A_copy = A\n",
    "i=0\n",
    "while(A_copy>=B):\n",
    "    A_copy=A_copy-B\n",
    "    i=i+1\n",
    "if(A_copy==0):\n",
    "    print(f\"{A} is divisible {i} times by {B}\")\n",
    "else:\n",
    "    print(f\"{A} is not divisible by {B}\")"
   ]
  },
  {
   "cell_type": "markdown",
   "metadata": {},
   "source": [
    "Q6. Create a list containing 25 int type data. Using for loop and if-else condition print if the element is d divisible by 3 or not."
   ]
  },
  {
   "cell_type": "code",
   "execution_count": 21,
   "metadata": {},
   "outputs": [
    {
     "name": "stdout",
     "output_type": "stream",
     "text": [
      "767 is not divisible by 3\n",
      "310 is not divisible by 3\n",
      "954 is divisible by 3\n",
      "717 is divisible by 3\n",
      "309 is divisible by 3\n",
      "924 is divisible by 3\n",
      "544 is not divisible by 3\n",
      "763 is not divisible by 3\n",
      "518 is not divisible by 3\n",
      "619 is not divisible by 3\n",
      "896 is not divisible by 3\n",
      "877 is not divisible by 3\n",
      "622 is not divisible by 3\n",
      "553 is not divisible by 3\n",
      "681 is divisible by 3\n",
      "461 is not divisible by 3\n",
      "846 is divisible by 3\n",
      "40 is not divisible by 3\n",
      "168 is divisible by 3\n",
      "757 is not divisible by 3\n",
      "486 is divisible by 3\n",
      "383 is not divisible by 3\n",
      "847 is not divisible by 3\n",
      "974 is not divisible by 3\n",
      "87 is divisible by 3\n"
     ]
    }
   ],
   "source": [
    "import random\n",
    "lst1  = []\n",
    "for i in range(25):\n",
    "    lst1.append(random.randint(1,1000))\n",
    "for i in range(25):\n",
    "    if(lst1[i]%3==0):\n",
    "        print(f\"{lst1[i]} is divisible by 3\")\n",
    "    else:\n",
    "        print(f\"{lst1[i]} is not divisible by 3\")"
   ]
  },
  {
   "cell_type": "markdown",
   "metadata": {},
   "source": [
    "Q7. What do you understand about mutable and immutable data types? Give examples for both showing this property"
   ]
  },
  {
   "cell_type": "markdown",
   "metadata": {},
   "source": [
    "Mutable data types are those collection types which are modifiable at indexes. List are mutable data types in python.\n",
    "\n",
    "Immutable data types are those collection types which are not modifiable at indexes. Tuple and strings are immutable data types in python"
   ]
  },
  {
   "cell_type": "code",
   "execution_count": 22,
   "metadata": {},
   "outputs": [
    {
     "ename": "TypeError",
     "evalue": "'str' object does not support item assignment",
     "output_type": "error",
     "traceback": [
      "\u001b[0;31m---------------------------------------------------------------------------\u001b[0m",
      "\u001b[0;31mTypeError\u001b[0m                                 Traceback (most recent call last)",
      "Cell \u001b[0;32mIn[22], line 2\u001b[0m\n\u001b[1;32m      1\u001b[0m str1\u001b[38;5;241m=\u001b[39m\u001b[38;5;124m\"\u001b[39m\u001b[38;5;124mjerry\u001b[39m\u001b[38;5;124m\"\u001b[39m\n\u001b[0;32m----> 2\u001b[0m \u001b[43mstr1\u001b[49m\u001b[43m[\u001b[49m\u001b[38;5;241;43m0\u001b[39;49m\u001b[43m]\u001b[49m\u001b[38;5;241m=\u001b[39m\u001b[38;5;124m'\u001b[39m\u001b[38;5;124mb\u001b[39m\u001b[38;5;124m'\u001b[39m\n",
      "\u001b[0;31mTypeError\u001b[0m: 'str' object does not support item assignment"
     ]
    }
   ],
   "source": [
    "str1=\"jerry\"\n",
    "str1[0]='b'"
   ]
  },
  {
   "cell_type": "code",
   "execution_count": 23,
   "metadata": {},
   "outputs": [],
   "source": [
    "lst2=[1,2,3,4,5]\n",
    "lst2[0]=11"
   ]
  },
  {
   "cell_type": "code",
   "execution_count": null,
   "metadata": {},
   "outputs": [],
   "source": []
  }
 ],
 "metadata": {
  "kernelspec": {
   "display_name": ".venv",
   "language": "python",
   "name": "python3"
  },
  "language_info": {
   "codemirror_mode": {
    "name": "ipython",
    "version": 3
   },
   "file_extension": ".py",
   "mimetype": "text/x-python",
   "name": "python",
   "nbconvert_exporter": "python",
   "pygments_lexer": "ipython3",
   "version": "3.12.3"
  }
 },
 "nbformat": 4,
 "nbformat_minor": 2
}
